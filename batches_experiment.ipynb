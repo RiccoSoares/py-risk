{
 "cells": [
  {
   "cell_type": "code",
   "execution_count": 2,
   "metadata": {},
   "outputs": [],
   "source": [
    "import risk\n",
    "from risk.nn import *\n",
    "from risk.replay_buffer import *\n",
    "import pickle\n",
    "import torch\n",
    "import random\n",
    "import argparse\n",
    "from torch.optim import Adam\n",
    "from torch_geometric.loader import DataLoader\n"
   ]
  },
  {
   "cell_type": "code",
   "execution_count": 3,
   "metadata": {},
   "outputs": [],
   "source": [
    "replay_buffer = ReplayBuffer()\n",
    "replay_buffer.load(\"replay-buffer/replay_buffer.pkl\")\n",
    "network = Model15()"
   ]
  },
  {
   "cell_type": "code",
   "execution_count": 4,
   "metadata": {},
   "outputs": [
    {
     "name": "stdout",
     "output_type": "stream",
     "text": [
      "Replay Buffer contains: 310 experiences\n"
     ]
    }
   ],
   "source": [
    "print(f'Replay Buffer contains: {len(replay_buffer)} experiences')"
   ]
  },
  {
   "cell_type": "code",
   "execution_count": 5,
   "metadata": {},
   "outputs": [],
   "source": [
    "optimizer = Adam(network.parameters(), lr=0.001)\n",
    "criterion_policy = torch.nn.KLDivLoss(reduction='batchmean')\n",
    "criterion_value = torch.nn.MSELoss()"
   ]
  },
  {
   "cell_type": "code",
   "execution_count": 6,
   "metadata": {},
   "outputs": [
    {
     "data": {
      "text/plain": [
       "(StateData(edge_index=[2, 34], map=1, num_nodes=12, num_bonuses=4, num_moves=20, graph_data=[12, 9], global_data=[4], graph_features=[12, 5], graph_edges=[2, 34], bonus_edges=[2, 36], bonus_batch=[12], bonus_nodes=[12], bonus_values=[4], bonus_values_normed=[4], bonus_mapping=[2, 12], income=[1, 2], total_armies=[1, 3], asrcs=[37], adsts=[37], abtch=[37], aarmies=[37], tsrcs=[0], tdsts=[0], tbtch=[0], tarmies=[0], dtgts=[38], dbtch=[38], darmies=[38], attack_data=[37, 20], transfer_data=[0, 19], deploy_data=[38, 10]),\n",
       " tensor([0.0610, 0.0610, 0.1010, 0.1010, 0.0610, 0.1610, 0.0010, 0.0610, 0.0010,\n",
       "         0.0610, 0.0610, 0.0610, 0.0410, 0.0610, 0.0610, 0.0010, 0.0410, 0.0010,\n",
       "         0.0010, 0.0010]),\n",
       " tensor(-0.1160))"
      ]
     },
     "execution_count": 6,
     "metadata": {},
     "output_type": "execute_result"
    }
   ],
   "source": [
    "replay_buffer.buffer[0]"
   ]
  },
  {
   "cell_type": "code",
   "execution_count": 7,
   "metadata": {},
   "outputs": [
    {
     "name": "stdout",
     "output_type": "stream",
     "text": [
      "state: StateData(edge_index=[2, 34], map=1, num_nodes=12, num_bonuses=4, num_moves=20, graph_data=[12, 9], global_data=[4], graph_features=[12, 5], graph_edges=[2, 34], bonus_edges=[2, 36], bonus_batch=[12], bonus_nodes=[12], bonus_values=[4], bonus_values_normed=[4], bonus_mapping=[2, 12], income=[1, 2], total_armies=[1, 3], asrcs=[37], adsts=[37], abtch=[37], aarmies=[37], tsrcs=[0], tdsts=[0], tbtch=[0], tarmies=[0], dtgts=[38], dbtch=[38], darmies=[38], attack_data=[37, 20], transfer_data=[0, 19], deploy_data=[38, 10])\n",
      "move_prob: tensor([0.0610, 0.0610, 0.1010, 0.1010, 0.0610, 0.1610, 0.0010, 0.0610, 0.0010,\n",
      "        0.0610, 0.0610, 0.0610, 0.0410, 0.0610, 0.0610, 0.0010, 0.0410, 0.0010,\n",
      "        0.0010, 0.0010])\n",
      " value: -0.11599999666213989\n"
     ]
    }
   ],
   "source": [
    "states, target_policies, target_values = zip(*replay_buffer.buffer)\n",
    "print(f\"state: {states[0]}\")\n",
    "print(f\"move_prob: {target_policies[0]}\")\n",
    "print(f\" value: {target_values[0]}\")"
   ]
  },
  {
   "cell_type": "code",
   "execution_count": 8,
   "metadata": {},
   "outputs": [],
   "source": [
    "states_data = DataLoader(states[100:200], batch_size=100, shuffle=False)"
   ]
  },
  {
   "cell_type": "code",
   "execution_count": 9,
   "metadata": {},
   "outputs": [],
   "source": [
    "for batch in states_data:\n",
    "    v, p = network(batch)"
   ]
  },
  {
   "cell_type": "code",
   "execution_count": 10,
   "metadata": {},
   "outputs": [
    {
     "name": "stdout",
     "output_type": "stream",
     "text": [
      "v: tensor([-0.5041,  0.7710,  0.5836, -0.7473,  0.0175, -0.7667,  0.5593,  0.4668,\n",
      "         0.3346,  0.9339,  0.3814,  0.1619, -0.2991,  0.3555,  0.1353, -0.1717,\n",
      "         0.2218,  0.0125, -0.2101,  0.0810,  0.3347, -0.1088,  0.7060,  0.0866,\n",
      "         0.6156, -0.8412, -0.4749, -0.4030, -0.6543, -0.9697, -0.3187,  0.3951,\n",
      "        -0.4324,  0.6436,  0.1215,  0.1311, -0.7693,  0.0401,  0.5407,  0.0226,\n",
      "        -0.4655, -0.0309,  0.1402,  0.4574, -0.9650,  0.3306, -0.9696,  0.2700,\n",
      "        -0.8951, -0.5116,  0.3083,  0.1377,  0.7842,  0.4298, -0.1069, -0.2120,\n",
      "         0.4360,  0.7835,  0.6012, -0.3344, -0.6684,  0.2649, -0.1178,  0.4788,\n",
      "        -0.0376, -0.0935,  0.1584, -0.7534,  0.1718, -0.1916,  0.4937,  0.2629,\n",
      "         0.3012,  0.2208,  0.5535,  0.1366, -0.8448,  0.1037, -0.5260, -0.9250,\n",
      "         0.1450, -0.1145, -0.7420, -0.1153, -0.2038, -0.7267, -0.1652, -0.8558,\n",
      "        -0.0357, -0.0782,  0.7297,  0.8965,  0.0715,  0.7275, -0.5086, -0.3010,\n",
      "         0.2807, -0.2421, -0.3854,  0.8204], grad_fn=<ViewBackward0>)\n",
      "p: tensor([[-3.0551, -3.0177, -2.9915,  ..., -2.9797, -2.9620, -2.9224],\n",
      "        [-3.0768, -2.9422, -3.0037,  ..., -2.9963, -2.9174, -3.0934],\n",
      "        [-3.0313, -2.9613, -3.1169,  ..., -2.9361, -3.0325, -2.9185],\n",
      "        ...,\n",
      "        [-2.9824, -2.9274, -3.0251,  ..., -3.0216, -2.9780, -3.0580],\n",
      "        [-2.9810, -2.9415, -2.9630,  ..., -2.9720, -2.9415, -3.0393],\n",
      "        [-2.9863, -3.0090, -2.9966,  ..., -2.9659, -2.9744, -2.9643]],\n",
      "       grad_fn=<LogSoftmaxBackward0>)\n"
     ]
    }
   ],
   "source": [
    "print(f\"v: {v}\")\n",
    "print(f\"p: {p}\")"
   ]
  }
 ],
 "metadata": {
  "kernelspec": {
   "display_name": "py-risk-env",
   "language": "python",
   "name": "python3"
  },
  "language_info": {
   "codemirror_mode": {
    "name": "ipython",
    "version": 3
   },
   "file_extension": ".py",
   "mimetype": "text/x-python",
   "name": "python",
   "nbconvert_exporter": "python",
   "pygments_lexer": "ipython3",
   "version": "3.10.15"
  }
 },
 "nbformat": 4,
 "nbformat_minor": 2
}
